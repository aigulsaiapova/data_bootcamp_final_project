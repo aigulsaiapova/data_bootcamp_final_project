{
 "cells": [
  {
   "cell_type": "markdown",
   "metadata": {},
   "source": [
    "## Final Proposal: Disney and Marvel merger: who saved whom?\n",
    "\n",
    "#### Principal investigator: Aigul Saiapova <br>  Email: as10369@nyu.edu\n",
    "\n",
    "\n",
    "\n",
    "This project will study the interdynamics of the 2009 acquisition of Marvel Entertainment by The Wall Disney Company. Since the time of the merger, Marvel Cinematic Universe (MCU) productions have been hitting box office records all around the world, while The Walt Disney Company kept growing in size and profitability. According to the most recent news, MCU has become the most profitable movie franchise in the history of cinematography. Disney, at the same time, went on a \"shopping spree\" to acquire the ABC broadcasting company (1995), Lucasfilm (famous for its production of Star Wars), 20th and 21th Century Fox, FOX Television Studios and Pixar ever since. With these extended capabilities, The Walt Disney Company has formed a massive conglomerate, strongly exhibiting monopolistic behavior. Some [media sources](https://www.fool.com/investing/2018/04/25/how-the-avengers-saved-disneys-movie-business.aspx) claim that the acquisition of Marvel Entertainment is what \"saved Disney's movie business\" while [others](http://fortune.com/2015/10/08/disney-marvel/) claim the opposite. Therefore, my objective for this project is to disentangle the causal-correllational effect of this merger. Here is how I plan to proceed:\n",
    "\n",
    "1. Look at the box office data from the dawn to dusk of Marvel Cinematic Universe, marking the date of the acquisition.\n",
    "\n",
    "\n",
    "2. Examine the review dynamics for the MCU productions by using data on average film ratings and variance in number of reviewers from websites like [IMDb](https://www.imdb.com/list/ls066946827/) (International Movie Database) and [Rotten Tomatoes](https://www.rottentomatoes.com/franchise/marvel_cinematic_universe/), widely used for reference by the audience.\n",
    "\n",
    "\n",
    "3. Screen effect: how many screens on average could display films of the MCU, and whether that had an effect on profitability.\n",
    "\n",
    "\n",
    "4. Look at the general entertainment trends: what if the popularity of the Marvel content is a consequence of shifting preferences for entertainment rather than the sheer excellence of the franchise?\n",
    "\n",
    "\n",
    "The project will have two parts: an analytical, programming based assignment presented in this Jupyter Notebook and a separate PowerPoint presentation explaining data points and providing additional reference information.\n"
   ]
  },
  {
   "cell_type": "markdown",
   "metadata": {},
   "source": [
    "#### Install all the required packages for the case analysis..."
   ]
  },
  {
   "cell_type": "code",
   "execution_count": 1,
   "metadata": {},
   "outputs": [],
   "source": [
    "import pandas as pd\n",
    "import matplotlib.pyplot as plt\n",
    "import weightedcalcs as wc"
   ]
  },
  {
   "cell_type": "markdown",
   "metadata": {},
   "source": [
    "#### Import the data.\n",
    "My excel document has four sheets: one describing the contents, second contains box office statistics, the third is review data, the last has the industry statistics. I will import them as separate variables."
   ]
  },
  {
   "cell_type": "code",
   "execution_count": 15,
   "metadata": {},
   "outputs": [],
   "source": [
    "path=\"C:\\\\Users\\\\Aygul Sayapova\\\\Desktop\\\\NYU New York\\\\Data bootcamp\\\\MARVEL DISNEY PROJECT\\\\MCU_box.xlsx\"\n",
    "box_office=pd.read_excel(path, sheet_name=\"box_office\")"
   ]
  },
  {
   "cell_type": "code",
   "execution_count": 16,
   "metadata": {},
   "outputs": [],
   "source": [
    "review=pd.read_excel(path, sheet_name=\"review\")"
   ]
  },
  {
   "cell_type": "code",
   "execution_count": 19,
   "metadata": {},
   "outputs": [],
   "source": [
    "industry_stats=pd.read_excel(path, sheet_name=\"industry_stat\")"
   ]
  },
  {
   "cell_type": "code",
   "execution_count": 17,
   "metadata": {},
   "outputs": [],
   "source": [
    "box_office.set_index(\"Name\", inplace=True)"
   ]
  },
  {
   "cell_type": "markdown",
   "metadata": {},
   "source": [
    "Although I comprised the data manually, it still helps to remember the size of it:"
   ]
  },
  {
   "cell_type": "code",
   "execution_count": 18,
   "metadata": {},
   "outputs": [
    {
     "data": {
      "text/plain": [
       "(22, 12)"
      ]
     },
     "execution_count": 18,
     "metadata": {},
     "output_type": "execute_result"
    }
   ],
   "source": [
    "box_office.shape"
   ]
  },
  {
   "cell_type": "code",
   "execution_count": 20,
   "metadata": {},
   "outputs": [
    {
     "data": {
      "text/plain": [
       "(22, 11)"
      ]
     },
     "execution_count": 20,
     "metadata": {},
     "output_type": "execute_result"
    }
   ],
   "source": [
    "review.shape"
   ]
  },
  {
   "cell_type": "code",
   "execution_count": 24,
   "metadata": {},
   "outputs": [
    {
     "data": {
      "text/plain": [
       "(12, 5)"
      ]
     },
     "execution_count": 24,
     "metadata": {},
     "output_type": "execute_result"
    }
   ],
   "source": [
    "industry_stats.shape"
   ]
  },
  {
   "cell_type": "code",
   "execution_count": 21,
   "metadata": {},
   "outputs": [
    {
     "data": {
      "text/html": [
       "<div>\n",
       "<style scoped>\n",
       "    .dataframe tbody tr th:only-of-type {\n",
       "        vertical-align: middle;\n",
       "    }\n",
       "\n",
       "    .dataframe tbody tr th {\n",
       "        vertical-align: top;\n",
       "    }\n",
       "\n",
       "    .dataframe thead th {\n",
       "        text-align: right;\n",
       "    }\n",
       "</style>\n",
       "<table border=\"1\" class=\"dataframe\">\n",
       "  <thead>\n",
       "    <tr style=\"text-align: right;\">\n",
       "      <th></th>\n",
       "      <th>US_release_date</th>\n",
       "      <th>open_week_revenue</th>\n",
       "      <th>total_gross_US</th>\n",
       "      <th>total_gross_intl</th>\n",
       "      <th>total_world</th>\n",
       "      <th>inflation_adj_open_week_US</th>\n",
       "      <th>inlfation_adjusted_US</th>\n",
       "      <th>inlfation_adjusted_intl</th>\n",
       "      <th>inlfation_adjusted_world</th>\n",
       "      <th>num_theatres</th>\n",
       "      <th>num_tix_sold</th>\n",
       "      <th>CPI_adj_2008</th>\n",
       "    </tr>\n",
       "    <tr>\n",
       "      <th>Name</th>\n",
       "      <th></th>\n",
       "      <th></th>\n",
       "      <th></th>\n",
       "      <th></th>\n",
       "      <th></th>\n",
       "      <th></th>\n",
       "      <th></th>\n",
       "      <th></th>\n",
       "      <th></th>\n",
       "      <th></th>\n",
       "      <th></th>\n",
       "      <th></th>\n",
       "    </tr>\n",
       "  </thead>\n",
       "  <tbody>\n",
       "    <tr>\n",
       "      <th>Iron Man</th>\n",
       "      <td>2008-02-05</td>\n",
       "      <td>98618668</td>\n",
       "      <td>318412101</td>\n",
       "      <td>266762121</td>\n",
       "      <td>585174222</td>\n",
       "      <td>4.580523e+07</td>\n",
       "      <td>1.478923e+08</td>\n",
       "      <td>1.239025e+08</td>\n",
       "      <td>2.717948e+08</td>\n",
       "      <td>4154</td>\n",
       "      <td>44347089</td>\n",
       "      <td>0.464468</td>\n",
       "    </tr>\n",
       "    <tr>\n",
       "      <th>The Incredible Hulk</th>\n",
       "      <td>2008-06-13</td>\n",
       "      <td>55414050</td>\n",
       "      <td>134806913</td>\n",
       "      <td>128620638</td>\n",
       "      <td>263427551</td>\n",
       "      <td>2.573806e+07</td>\n",
       "      <td>6.261352e+07</td>\n",
       "      <td>5.974019e+07</td>\n",
       "      <td>1.223537e+08</td>\n",
       "      <td>3508</td>\n",
       "      <td>18775336</td>\n",
       "      <td>NaN</td>\n",
       "    </tr>\n",
       "    <tr>\n",
       "      <th>Iron Man 2</th>\n",
       "      <td>2010-05-07</td>\n",
       "      <td>128122480</td>\n",
       "      <td>312433331</td>\n",
       "      <td>311500000</td>\n",
       "      <td>623933331</td>\n",
       "      <td>5.950882e+07</td>\n",
       "      <td>1.451153e+08</td>\n",
       "      <td>1.446818e+08</td>\n",
       "      <td>2.897972e+08</td>\n",
       "      <td>4390</td>\n",
       "      <td>39598647</td>\n",
       "      <td>NaN</td>\n",
       "    </tr>\n",
       "    <tr>\n",
       "      <th>Thor</th>\n",
       "      <td>2011-05-06</td>\n",
       "      <td>65723338</td>\n",
       "      <td>181030624</td>\n",
       "      <td>268295994</td>\n",
       "      <td>449326618</td>\n",
       "      <td>3.052640e+07</td>\n",
       "      <td>8.408297e+07</td>\n",
       "      <td>1.246150e+08</td>\n",
       "      <td>2.086979e+08</td>\n",
       "      <td>3963</td>\n",
       "      <td>22828578</td>\n",
       "      <td>NaN</td>\n",
       "    </tr>\n",
       "    <tr>\n",
       "      <th>Captain America: The First Avenger</th>\n",
       "      <td>2011-07-22</td>\n",
       "      <td>65058524</td>\n",
       "      <td>176654505</td>\n",
       "      <td>193915269</td>\n",
       "      <td>370569774</td>\n",
       "      <td>3.021761e+07</td>\n",
       "      <td>8.205040e+07</td>\n",
       "      <td>9.006747e+07</td>\n",
       "      <td>1.721179e+08</td>\n",
       "      <td>3715</td>\n",
       "      <td>22276735</td>\n",
       "      <td>NaN</td>\n",
       "    </tr>\n",
       "  </tbody>\n",
       "</table>\n",
       "</div>"
      ],
      "text/plain": [
       "                                   US_release_date  open_week_revenue  \\\n",
       "Name                                                                    \n",
       "Iron Man                                2008-02-05           98618668   \n",
       "The Incredible Hulk                     2008-06-13           55414050   \n",
       "Iron Man 2                              2010-05-07          128122480   \n",
       "Thor                                    2011-05-06           65723338   \n",
       "Captain America: The First Avenger      2011-07-22           65058524   \n",
       "\n",
       "                                    total_gross_US  total_gross_intl  \\\n",
       "Name                                                                   \n",
       "Iron Man                                 318412101         266762121   \n",
       "The Incredible Hulk                      134806913         128620638   \n",
       "Iron Man 2                               312433331         311500000   \n",
       "Thor                                     181030624         268295994   \n",
       "Captain America: The First Avenger       176654505         193915269   \n",
       "\n",
       "                                    total_world  inflation_adj_open_week_US  \\\n",
       "Name                                                                          \n",
       "Iron Man                              585174222                4.580523e+07   \n",
       "The Incredible Hulk                   263427551                2.573806e+07   \n",
       "Iron Man 2                            623933331                5.950882e+07   \n",
       "Thor                                  449326618                3.052640e+07   \n",
       "Captain America: The First Avenger    370569774                3.021761e+07   \n",
       "\n",
       "                                    inlfation_adjusted_US  \\\n",
       "Name                                                        \n",
       "Iron Man                                     1.478923e+08   \n",
       "The Incredible Hulk                          6.261352e+07   \n",
       "Iron Man 2                                   1.451153e+08   \n",
       "Thor                                         8.408297e+07   \n",
       "Captain America: The First Avenger           8.205040e+07   \n",
       "\n",
       "                                    inlfation_adjusted_intl  \\\n",
       "Name                                                          \n",
       "Iron Man                                       1.239025e+08   \n",
       "The Incredible Hulk                            5.974019e+07   \n",
       "Iron Man 2                                     1.446818e+08   \n",
       "Thor                                           1.246150e+08   \n",
       "Captain America: The First Avenger             9.006747e+07   \n",
       "\n",
       "                                    inlfation_adjusted_world  num_theatres  \\\n",
       "Name                                                                         \n",
       "Iron Man                                        2.717948e+08          4154   \n",
       "The Incredible Hulk                             1.223537e+08          3508   \n",
       "Iron Man 2                                      2.897972e+08          4390   \n",
       "Thor                                            2.086979e+08          3963   \n",
       "Captain America: The First Avenger              1.721179e+08          3715   \n",
       "\n",
       "                                    num_tix_sold  CPI_adj_2008  \n",
       "Name                                                            \n",
       "Iron Man                                44347089      0.464468  \n",
       "The Incredible Hulk                     18775336           NaN  \n",
       "Iron Man 2                              39598647           NaN  \n",
       "Thor                                    22828578           NaN  \n",
       "Captain America: The First Avenger      22276735           NaN  "
      ]
     },
     "execution_count": 21,
     "metadata": {},
     "output_type": "execute_result"
    }
   ],
   "source": [
    "box_office.head()"
   ]
  },
  {
   "cell_type": "markdown",
   "metadata": {},
   "source": [
    "As we can see, there are 12 descriptive columns for the data, including:\n",
    "- The release date\n",
    "- Revenue in the opening week (nominal data)\n",
    "- Total box office revenue in the US and internationally (nominal). For the most of the movies, at least 50% of their revenue is collected outside the US. So we can trace popularity of the franchise in the world as well.\n",
    "- Real values for the aforementioned revenue values to account for price inflation. (GDP deflator number is the last column)\n",
    "- The screen effect: the number of theatres where the films were screened.\n",
    "- Number of tickets sold per each movie in the US"
   ]
  },
  {
   "cell_type": "code",
   "execution_count": 13,
   "metadata": {},
   "outputs": [
    {
     "data": {
      "text/html": [
       "<div>\n",
       "<style scoped>\n",
       "    .dataframe tbody tr th:only-of-type {\n",
       "        vertical-align: middle;\n",
       "    }\n",
       "\n",
       "    .dataframe tbody tr th {\n",
       "        vertical-align: top;\n",
       "    }\n",
       "\n",
       "    .dataframe thead th {\n",
       "        text-align: right;\n",
       "    }\n",
       "</style>\n",
       "<table border=\"1\" class=\"dataframe\">\n",
       "  <thead>\n",
       "    <tr style=\"text-align: right;\">\n",
       "      <th></th>\n",
       "      <th>title</th>\n",
       "      <th>genre</th>\n",
       "      <th>year</th>\n",
       "      <th>runtime_min</th>\n",
       "      <th>imdb_rating</th>\n",
       "      <th>imdb_vote</th>\n",
       "      <th>imdb_metascore</th>\n",
       "      <th>rt_audience_pct</th>\n",
       "      <th>rt_prof_rev</th>\n",
       "      <th>rt_rev_num</th>\n",
       "      <th>rt_user_rating_num</th>\n",
       "    </tr>\n",
       "  </thead>\n",
       "  <tbody>\n",
       "    <tr>\n",
       "      <th>0</th>\n",
       "      <td>Iron Man</td>\n",
       "      <td>Action,Adventure,Sci-Fi</td>\n",
       "      <td>2008.0</td>\n",
       "      <td>126</td>\n",
       "      <td>7.9</td>\n",
       "      <td>737719</td>\n",
       "      <td>79</td>\n",
       "      <td>0.91</td>\n",
       "      <td>0.93</td>\n",
       "      <td>275</td>\n",
       "      <td>1081473</td>\n",
       "    </tr>\n",
       "    <tr>\n",
       "      <th>1</th>\n",
       "      <td>The Incredible Hulk</td>\n",
       "      <td>Action,Adventure,Sci-Fi</td>\n",
       "      <td>2008.0</td>\n",
       "      <td>112</td>\n",
       "      <td>6.8</td>\n",
       "      <td>342355</td>\n",
       "      <td>61</td>\n",
       "      <td>0.70</td>\n",
       "      <td>0.67</td>\n",
       "      <td>229</td>\n",
       "      <td>738333</td>\n",
       "    </tr>\n",
       "    <tr>\n",
       "      <th>2</th>\n",
       "      <td>Iron Man 2</td>\n",
       "      <td>Action,Adventure,Sci-Fi</td>\n",
       "      <td>2010.0</td>\n",
       "      <td>124</td>\n",
       "      <td>7.0</td>\n",
       "      <td>556666</td>\n",
       "      <td>57</td>\n",
       "      <td>0.71</td>\n",
       "      <td>0.73</td>\n",
       "      <td>289</td>\n",
       "      <td>479864</td>\n",
       "    </tr>\n",
       "    <tr>\n",
       "      <th>3</th>\n",
       "      <td>Thor</td>\n",
       "      <td>Action,Adventure,Fantasy</td>\n",
       "      <td>2011.0</td>\n",
       "      <td>115</td>\n",
       "      <td>7.0</td>\n",
       "      <td>570814</td>\n",
       "      <td>57</td>\n",
       "      <td>0.76</td>\n",
       "      <td>0.77</td>\n",
       "      <td>282</td>\n",
       "      <td>246791</td>\n",
       "    </tr>\n",
       "    <tr>\n",
       "      <th>4</th>\n",
       "      <td>Captain America: The First Avenger</td>\n",
       "      <td>Action,Adventure,Sci-Fi</td>\n",
       "      <td>2011.0</td>\n",
       "      <td>124</td>\n",
       "      <td>6.9</td>\n",
       "      <td>547368</td>\n",
       "      <td>66</td>\n",
       "      <td>0.74</td>\n",
       "      <td>0.80</td>\n",
       "      <td>263</td>\n",
       "      <td>187978</td>\n",
       "    </tr>\n",
       "  </tbody>\n",
       "</table>\n",
       "</div>"
      ],
      "text/plain": [
       "                                title                     genre    year  \\\n",
       "0                            Iron Man   Action,Adventure,Sci-Fi  2008.0   \n",
       "1                 The Incredible Hulk   Action,Adventure,Sci-Fi  2008.0   \n",
       "2                          Iron Man 2   Action,Adventure,Sci-Fi  2010.0   \n",
       "3                                Thor  Action,Adventure,Fantasy  2011.0   \n",
       "4  Captain America: The First Avenger   Action,Adventure,Sci-Fi  2011.0   \n",
       "\n",
       "   runtime_min  imdb_rating  imdb_vote  imdb_metascore  rt_audience_pct  \\\n",
       "0          126          7.9     737719              79             0.91   \n",
       "1          112          6.8     342355              61             0.70   \n",
       "2          124          7.0     556666              57             0.71   \n",
       "3          115          7.0     570814              57             0.76   \n",
       "4          124          6.9     547368              66             0.74   \n",
       "\n",
       "   rt_prof_rev  rt_rev_num  rt_user_rating_num  \n",
       "0         0.93         275             1081473  \n",
       "1         0.67         229              738333  \n",
       "2         0.73         289              479864  \n",
       "3         0.77         282              246791  \n",
       "4         0.80         263              187978  "
      ]
     },
     "execution_count": 13,
     "metadata": {},
     "output_type": "execute_result"
    }
   ],
   "source": [
    "review.head()"
   ]
  },
  {
   "cell_type": "markdown",
   "metadata": {},
   "source": [
    "In this sheet, there are:\n",
    "- Genre\n",
    "- Year of release\n",
    "- Runtime in minutes\n",
    "- Ratings: IMDb rating: average of individual user ratings; metascore - rating given by critics, number of users voted; Rotten Tomatoes: audience ratings, critics ratings, the respective numbers behind those scores."
   ]
  },
  {
   "cell_type": "code",
   "execution_count": 23,
   "metadata": {},
   "outputs": [
    {
     "data": {
      "text/html": [
       "<div>\n",
       "<style scoped>\n",
       "    .dataframe tbody tr th:only-of-type {\n",
       "        vertical-align: middle;\n",
       "    }\n",
       "\n",
       "    .dataframe tbody tr th {\n",
       "        vertical-align: top;\n",
       "    }\n",
       "\n",
       "    .dataframe thead th {\n",
       "        text-align: right;\n",
       "    }\n",
       "</style>\n",
       "<table border=\"1\" class=\"dataframe\">\n",
       "  <thead>\n",
       "    <tr style=\"text-align: right;\">\n",
       "      <th></th>\n",
       "      <th>year</th>\n",
       "      <th>num_tix_sold</th>\n",
       "      <th>box_office_nominal</th>\n",
       "      <th>box_office_adj</th>\n",
       "      <th>avg_tix_price</th>\n",
       "    </tr>\n",
       "  </thead>\n",
       "  <tbody>\n",
       "    <tr>\n",
       "      <th>0</th>\n",
       "      <td>2008</td>\n",
       "      <td>1358041408</td>\n",
       "      <td>9750739371</td>\n",
       "      <td>12371757232</td>\n",
       "      <td>7.18</td>\n",
       "    </tr>\n",
       "    <tr>\n",
       "      <th>1</th>\n",
       "      <td>2009</td>\n",
       "      <td>1418567388</td>\n",
       "      <td>10639257284</td>\n",
       "      <td>12923123576</td>\n",
       "      <td>7.50</td>\n",
       "    </tr>\n",
       "    <tr>\n",
       "      <th>2</th>\n",
       "      <td>2010</td>\n",
       "      <td>1328549021</td>\n",
       "      <td>10482254025</td>\n",
       "      <td>12103081587</td>\n",
       "      <td>7.89</td>\n",
       "    </tr>\n",
       "    <tr>\n",
       "      <th>3</th>\n",
       "      <td>2011</td>\n",
       "      <td>1282891721</td>\n",
       "      <td>10173333767</td>\n",
       "      <td>11687143588</td>\n",
       "      <td>7.93</td>\n",
       "    </tr>\n",
       "    <tr>\n",
       "      <th>4</th>\n",
       "      <td>2012</td>\n",
       "      <td>1402603148</td>\n",
       "      <td>11164723987</td>\n",
       "      <td>12777714678</td>\n",
       "      <td>7.96</td>\n",
       "    </tr>\n",
       "  </tbody>\n",
       "</table>\n",
       "</div>"
      ],
      "text/plain": [
       "   year  num_tix_sold  box_office_nominal  box_office_adj  avg_tix_price\n",
       "0  2008    1358041408          9750739371     12371757232           7.18\n",
       "1  2009    1418567388         10639257284     12923123576           7.50\n",
       "2  2010    1328549021         10482254025     12103081587           7.89\n",
       "3  2011    1282891721         10173333767     11687143588           7.93\n",
       "4  2012    1402603148         11164723987     12777714678           7.96"
      ]
     },
     "execution_count": 23,
     "metadata": {},
     "output_type": "execute_result"
    }
   ],
   "source": [
    "industry_stats.head()"
   ]
  },
  {
   "cell_type": "markdown",
   "metadata": {},
   "source": [
    "Pretty straightforward for the industry stats."
   ]
  },
  {
   "cell_type": "code",
   "execution_count": 10,
   "metadata": {},
   "outputs": [
    {
     "data": {
      "text/plain": [
       "US_release_date               datetime64[ns]\n",
       "open_week_revenue                      int64\n",
       "total_gross_US                         int64\n",
       "total_gross_intl                       int64\n",
       "total_world                            int64\n",
       "inflation_adj_open_week_US           float64\n",
       "inlfation_adjusted_US                float64\n",
       "inlfation_adjusted_intl              float64\n",
       "inlfation_adjusted_world             float64\n",
       "num_theatres                           int64\n",
       "CPI_adj_2008                         float64\n",
       "dtype: object"
      ]
     },
     "execution_count": 10,
     "metadata": {},
     "output_type": "execute_result"
    }
   ],
   "source": [
    "box_office.dtypes"
   ]
  },
  {
   "cell_type": "code",
   "execution_count": 14,
   "metadata": {},
   "outputs": [
    {
     "data": {
      "text/plain": [
       "title                  object\n",
       "genre                  object\n",
       "year                  float64\n",
       "runtime_min             int64\n",
       "imdb_rating           float64\n",
       "imdb_vote               int64\n",
       "imdb_metascore          int64\n",
       "rt_audience_pct       float64\n",
       "rt_prof_rev           float64\n",
       "rt_rev_num              int64\n",
       "rt_user_rating_num      int64\n",
       "dtype: object"
      ]
     },
     "execution_count": 14,
     "metadata": {},
     "output_type": "execute_result"
    }
   ],
   "source": [
    "review.dtypes"
   ]
  },
  {
   "cell_type": "code",
   "execution_count": 25,
   "metadata": {},
   "outputs": [
    {
     "data": {
      "text/plain": [
       "year                    int64\n",
       "num_tix_sold            int64\n",
       "box_office_nominal      int64\n",
       "box_office_adj          int64\n",
       "avg_tix_price         float64\n",
       "dtype: object"
      ]
     },
     "execution_count": 25,
     "metadata": {},
     "output_type": "execute_result"
    }
   ],
   "source": [
    "industry_stats.dtypes"
   ]
  },
  {
   "cell_type": "markdown",
   "metadata": {},
   "source": [
    "## Summary"
   ]
  },
  {
   "cell_type": "markdown",
   "metadata": {},
   "source": [
    "Therefore, it looks like I have enough data to conduct my analysis. Next: graphs!"
   ]
  }
 ],
 "metadata": {
  "kernelspec": {
   "display_name": "Python 3",
   "language": "python",
   "name": "python3"
  },
  "language_info": {
   "codemirror_mode": {
    "name": "ipython",
    "version": 3
   },
   "file_extension": ".py",
   "mimetype": "text/x-python",
   "name": "python",
   "nbconvert_exporter": "python",
   "pygments_lexer": "ipython3",
   "version": "3.7.1"
  }
 },
 "nbformat": 4,
 "nbformat_minor": 2
}
